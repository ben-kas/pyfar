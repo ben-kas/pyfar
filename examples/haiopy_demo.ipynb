{
 "cells": [
  {
   "source": [
    "# Welcome\n",
    "\n",
    "This is the pyfar demo and a good place for getting started. In this notebook, you will see examples of the most important pyfar functionalty.\n",
    "\n",
    "**Note:** This is not a substitute for the pyfar documentaion at **insert_url**.\n",
    "\n",
    "## Contents\n",
    "[Signals](#signals)\n",
    "- [Signal types](#signal_types)\n",
    "- [FFT normalization](#fft_normalization) TODO\n",
    "- [Accessing Signal data](#accessing_signal_data)\n",
    "- [Iterating Signals](#accessing_signal_data)\n",
    "- [Signal meta data](#signal_meta_data) TODO\n",
    "- [Arithmetic operations](#arithmetic_operations) TODO\n",
    "\n",
    "[Coordinates](#coordinates)\n",
    "- [Entering coordinate points](#coordinates_enter)\n",
    "- [Retrieving coordinate points](#coordinates_retrieve)\n",
    "- [Rotating coordinate points](#coordinates_rotate)\n",
    "\n",
    "[Orientations](#orientations)\n",
    "- [Entering orientations](#entering_orientations)\n",
    "- [Retrieving orientations](#retrieving_orientations)\n",
    "- [Rotating orientations](#rotating_orientations)\n",
    "\n",
    "[Plotting](#plotting) TODO\n",
    "\n",
    "[DSP] TODO\n",
    "- Filtering TODO\n",
    "\n",
    "[In'n'out](#in_and_out)\n",
    "- [Read and write workspace](#io_workspaces) TODO\n",
    "- [Read and write wav files](#io_wav_files)\n",
    "- [Read SOFA files](#io_sofa) TODO\n",
    "\n",
    "\n",
    "Lets start with importing pyfar and numpy:"
   ],
   "cell_type": "markdown",
   "metadata": {}
  },
  {
   "source": [
    "# import packages\n",
    "import pyfar\n",
    "from pyfar import Signal                     # managing audio signals\n",
    "from pyfar.coordinates import Coordinates    # managing satial sampling points\n",
    "from pyfar.orientations import Orientations  # managing orientation vectors\n",
    "from pyfar.spatial import samplings          # creating predefined spatial sampling grids\n",
    "import numpy as np                           # you gotta love numpy, but pandas are cuter"
   ],
   "cell_type": "code",
   "metadata": {},
   "execution_count": null,
   "outputs": []
  },
  {
   "source": [
    "# Signals<a class=\"anchor\" id=\"signals\"></a>\n",
    "\n",
    "Audio signals are the basis of pyfar. They are stored in objects of the `Signal` class along with information about the sampling rate, the domain (`time`, or `freq`), the FFT type and an optional comment. Lets go ahead and create a single channel signal:"
   ],
   "cell_type": "markdown",
   "metadata": {}
  },
  {
   "cell_type": "code",
   "execution_count": null,
   "metadata": {},
   "outputs": [],
   "source": [
    "# create a dirac signal with a sampling rate of 44.1 kHz\n",
    "fs = 44100\n",
    "x = np.zeros(441)\n",
    "x[0] = 1\n",
    "x_energy = Signal(x, fs, signal_type='energy')\n",
    "\n",
    "# show information\n",
    "x_energy"
   ]
  },
  {
   "source": [
    "## Signal types<a class=\"anchor\" id=\"signal_types\"></a>\n",
    "\n",
    "There are two different *signal types*: `'energy'` and `'power'`. Energy signals are finite signals with a finite energy. The most common example for an energy signal is an impulse response. Power signals are finite sections of infinte audio signals. They have infinite energy but finite power. Examples for power signals are environmental noise or sine tones. It is important to distinguish between the two and some functions have signal type specific behaviour. You will come acros this in the sections [FFT Normalization](#fft_normalization), [Arithmetic operations](#arithmetic_operations), and [Plotting](#plotting). Lets also create a power signal"
   ],
   "cell_type": "markdown",
   "metadata": {}
  },
  {
   "cell_type": "code",
   "execution_count": null,
   "metadata": {},
   "outputs": [],
   "source": [
    "x = np.sin(2 * np.pi * 1000 * np.arange(441) / fs)\n",
    "x_power = Signal(x, fs, signal_type='power')"
   ]
  },
  {
   "source": [
    "## FFT Normalization<a class=\"anchor\" id=\"fft_normalization\"></a> [ToDo]"
   ],
   "cell_type": "markdown",
   "metadata": {}
  },
  {
   "source": [
    "## Accessing Signal data<a class=\"accessing_signal_data\" id=\"signals\"></a>\n",
    "\n",
    "You can access the data, i.e., the audio signal, inside a Signal object in the time and frequency domain by simply using"
   ],
   "cell_type": "markdown",
   "metadata": {}
  },
  {
   "cell_type": "code",
   "execution_count": null,
   "metadata": {},
   "outputs": [],
   "source": [
    "time_data = x_power.time\n",
    "freq_data = x.power.freq"
   ]
  },
  {
   "source": [
    "Please note that the frequency data of `'power'` signals depends on the Signal's `fft_norm`. Internally, the data are stored either in the `'time'` or `'freq'` domain. It is tranformed every time you access it without changing the internal state. In some cases it might be more efficient to store the data in a specif domain to avoid additional Fourier Transforms. Lets check out the current domain"
   ],
   "cell_type": "markdown",
   "metadata": {}
  },
  {
   "cell_type": "code",
   "execution_count": null,
   "metadata": {},
   "outputs": [],
   "source": [
    "x_power.domain"
   ]
  },
  {
   "source": [
    "and change it"
   ],
   "cell_type": "markdown",
   "metadata": {}
  },
  {
   "cell_type": "code",
   "execution_count": null,
   "metadata": {},
   "outputs": [],
   "source": [
    "x_power.domain = 'freq'\n",
    "x_power.domain"
   ]
  },
  {
   "source": [
    "## Iterating Signals<a class=\"signal_meta_data\" id=\"accessing_signal_data\"></a>\n",
    "\n",
    "It is the aim of pyfar that all operations work on N-dimensional `signals`. Nevertheless, you can also iterate `signals` if you need to apply operations depending on the channel. Lets look at a simple example"
   ],
   "cell_type": "markdown",
   "metadata": {}
  },
  {
   "cell_type": "code",
   "execution_count": null,
   "metadata": {},
   "outputs": [],
   "source": [
    "signal = Signal([[0, 0, 0], [1, 1, 1]], 44100)  # 2-channel signal\n",
    "\n",
    "# iterate the signal\n",
    "for n, channel in enumerate(signal):\n",
    "    print(f\"Channel: {n}, time data: {channel.time}\")\n",
    "    # do something channel dependent\n",
    "    channel.time = channel.time + n\n",
    "    # write changes to the signal\n",
    "    signal[n] = channel\n",
    "\n",
    "# q.e.d.\n",
    "print(f\"\\nNew signal time data:\\n{signal.time}\")"
   ]
  },
  {
   "source": [
    "`Signal` uses the standard `numpy` iterator which always iterates the first dimension. In case of a 2-D array as in the example above these are the channels."
   ],
   "cell_type": "markdown",
   "metadata": {}
  },
  {
   "source": [
    "## Signal meta data<a class=\"signal_meta_data\" id=\"signals\"></a> ([pick the most important])\n",
    "\n",
    "- cshape, etc\n",
    "- n_samples\n",
    "- time\n",
    "- comment ..."
   ],
   "cell_type": "markdown",
   "metadata": {}
  },
  {
   "source": [
    "## Arithmetic operations<a class=\"arithmetic_operations\" id=\"signals\"></a> [ToDo]\n"
   ],
   "cell_type": "markdown",
   "metadata": {}
  },
  {
   "source": [
    "# Plotting<a class=\"anchor\" id=\"plotting\"></a> [TODO]"
   ],
   "cell_type": "markdown",
   "metadata": {}
  },
  {
   "source": [
    "# Coordinates<a class=\"anchor\" id=\"coordinates\"></a>\n",
    "\n",
    "The `Coordinates()` class is designed for storing, manipulating, and acessing coordinate points in a large variety of different coordinate conventions. Examples for data that can be stored are microphone positions of a spherical microphone array and loudspeaker positions of a sound field synthesis system. Lets create and empty `Coordinates` object and look at the implemented conventions first:"
   ],
   "cell_type": "markdown",
   "metadata": {}
  },
  {
   "cell_type": "code",
   "execution_count": null,
   "metadata": {},
   "outputs": [],
   "source": [
    "c = Coordinates()\n",
    "c.systems()"
   ]
  },
  {
   "source": [
    "## Entering coordinate points<a class=\"anchor\" id=\"coordinates_enter\"></a>\n",
    "\n",
    "Coordinate points can be entered manually or by using one of the available sampling schemes contained in `pyfar.spatial.samplings`. We will do the latter using an equal angle sampling and look at the information provided by the coordinates object:"
   ],
   "cell_type": "markdown",
   "metadata": {}
  },
  {
   "cell_type": "code",
   "execution_count": null,
   "metadata": {},
   "outputs": [],
   "source": [
    "c = samplings.sph_equal_angle((20, 10))\n",
    "# show general information\n",
    "print(c)\n",
    "# plot the sampling points\n",
    "c.show()"
   ]
  },
  {
   "source": [
    "Inside the `Coordinates` object, the points are stored in an N-dimensional array of size `[..., 3]` where the last dimension in this case holds the azimuth, colatitude, and radius. Information about coordinate array can be obtained by `c.cshape`, `c.csize`, and `c.cdim`. These properties are similar to numpy's `shape`, `size`, and `dim` but ignore the last dimension, which is always 3."
   ],
   "cell_type": "markdown",
   "metadata": {}
  },
  {
   "source": [
    "## Retrieving coordinate points<a class=\"anchor\" id=\"coordinates_retrieve\"></a>\n",
    "\n",
    "There are different ways to retrieve points from a `Coordinates` object. All points can be obtained in cartesian, spherical, and cylindrical coordinates using the getter functions `c.get_cart()`, `c.get_sph()` and `c.get_cyl()`, e.g.:"
   ],
   "cell_type": "markdown",
   "metadata": {}
  },
  {
   "cell_type": "code",
   "execution_count": null,
   "metadata": {},
   "outputs": [],
   "source": [
    "cartesian_coordinates = c.get_cart()"
   ]
  },
  {
   "source": [
    "Different methods are available for obtaining a specific subset of coordinates. For example the nearest point(s) can be obtained by"
   ],
   "cell_type": "markdown",
   "metadata": {}
  },
  {
   "cell_type": "code",
   "execution_count": null,
   "metadata": {},
   "outputs": [],
   "source": [
    "c_out = c.get_nearest_k(\n",
    "    270, 90, 1, k=1, domain='sph', convention='top_colat', unit='deg', show=True)"
   ]
  },
  {
   "source": [
    "To obtain all points within a specified eucledian distance or arc distance, you can use `c.get_nearest_cart()` and `c.get_nearest_sph()`. To obtain more complicated subsets of any coordinate, e.g., the horizontal plane with `colatitude=90` degree, you can use slicing"
   ],
   "cell_type": "markdown",
   "metadata": {}
  },
  {
   "cell_type": "code",
   "execution_count": null,
   "metadata": {},
   "outputs": [],
   "source": [
    "mask_hor = c.get_slice('colatitude', 'deg', 90, show=True)"
   ]
  },
  {
   "source": [
    "## Rotating coordinates<a class=\"anchor\" id=\"coordinates_rotate\"></a>\n",
    "\n",
    "You can apply rotations using quaternions, rotation vectors/matrixes and euler angles with  `c.rotate()`, which is a wrapper for `scipy.spatial.transform.Rotation`. For example rotating around the y-axis by 45 degrees can be done with"
   ],
   "cell_type": "markdown",
   "metadata": {}
  },
  {
   "cell_type": "code",
   "execution_count": null,
   "metadata": {},
   "outputs": [],
   "source": [
    "c.rotate('y', 45)\n",
    "c.show()"
   ]
  },
  {
   "source": [
    "Note that this changes the points inside the `Coordinates` object, which means that you have to be carefull not to apply the rotation multiple times, i.e., when evaluationg cells during debugging."
   ],
   "cell_type": "markdown",
   "metadata": {}
  },
  {
   "source": [
    "# Orientations<a class=\"anchor\" id=\"orientations\"></a>\n",
    "\n",
    "The `Orientations()` class is designed storing, manipulating, and accessing orientation vectors. Examples for this are the orientations of directional loudspeakers when measuring room impulse responses or the head orientation belonging to binaural impulse responses. It is good to know that `Orientations` is inherited from `scipy.spatial.transform.Rotation` and that all methods of this class can also be used with `Orientations`.\n",
    "\n",
    "## Entering orientations<a class=\"anchor\" id=\"entering_orientations\"></a>\n",
    "\n",
    "Lets go ahead and create an object and show the result"
   ],
   "cell_type": "markdown",
   "metadata": {}
  },
  {
   "cell_type": "code",
   "execution_count": null,
   "metadata": {},
   "outputs": [],
   "source": [
    "views = [[0,  1, 0],\n",
    "         [1,  0, 0],\n",
    "         [0, -1, 0]]\n",
    "up = [0, 0, 1]\n",
    "orientations = Orientations.from_view_up(views, up)\n",
    "orientations.show(show_rights=False)\n"
   ]
  },
  {
   "source": [
    "It is also possible to enter `Orientations` from `Coordinates` object or mixtures of `Coordinates` objects and array likes. This is equivalent to the example above"
   ],
   "cell_type": "markdown",
   "metadata": {}
  },
  {
   "cell_type": "code",
   "execution_count": null,
   "metadata": {},
   "outputs": [],
   "source": [
    "views_c = Coordinates([90, 0, 270], 0, 1,\n",
    "                      domain='sph', convention='top_elev', unit='deg')\n",
    "\n",
    "orientations = Orientations.from_view_up(views_c, up)"
   ]
  },
  {
   "source": [
    "## Retrieving orientations<a class=\"anchor\" id=\"retrieving_orientations\"></a>\n",
    "\n",
    "Orientaions can be retrieved as view, up, and right-vectors and in any format supported by `scipy.spatial.transform.Rotation`. They can also easily converted into any coordinate convention supported by pyfar by putting them into a `Coordinates` object. Lets only check out one way for now "
   ],
   "cell_type": "markdown",
   "metadata": {}
  },
  {
   "cell_type": "code",
   "execution_count": null,
   "metadata": {},
   "outputs": [],
   "source": [
    "views, ups, right, = orientations.as_view_up_right()"
   ]
  },
  {
   "source": [
    "In this case the output is identical to the input. This would not be the case if for exaple using `view = [2, 0, 0]` in which case the output would be the unit vector `[1, 0, 0]`."
   ],
   "cell_type": "markdown",
   "metadata": {}
  },
  {
   "source": [
    "## Rotating orientations<a class=\"anchor\" id=\"rotating_orientations\"></a>\n",
    "\n",
    "Rotations can be done using the methods inherited from `scipy.spatial.transform.Rotation`. You can for example rotate around the y-axis this way"
   ],
   "cell_type": "markdown",
   "metadata": {}
  },
  {
   "source": [
    "rotation = Orientations.from_euler('y', 30, degrees=True)\n",
    "orientations_rot = orientations * rotation\n",
    "orientations_rot.show(show_rights=False)"
   ],
   "cell_type": "code",
   "metadata": {},
   "execution_count": null,
   "outputs": []
  },
  {
   "source": [
    "# In'n'out<a class=\"in_and_out\" id=\"signals\"></a>\n",
    "\n",
    "Now that you know what pyfar is about, let's see how you can save your work and read comman data types.\n",
    "\n",
    "## Read and write workspace<a class=\"in_and_out\" id=\"#io_workspaces\"></a> [ToDo]\n",
    "\n",
    "## Read and write wav-files<a class=\"in_and_out\" id=\"wav_files\"></a>\n",
    "\n",
    "Wav-files are commonly used in the audio community to store and exchange data. You can read them with\n",
    "\n",
    "`signal = pyfar.io.read_wav(filename)`\n",
    "\n",
    "and write them with\n",
    "\n",
    "`pyfar.io.write_wav(signal, filename, overwrite=True)`.\n",
    "\n",
    "You can write any `signal` to a wav-file also if they have values > 1. Multidimensional `signals` will be reshaped to 2D arrays before writing.\n",
    "\n",
    "## Read SOFA files<a class=\"in_and_out\" id=\"#io_sofa\"></a> [TODO]"
   ],
   "cell_type": "markdown",
   "metadata": {}
  },
  {
   "cell_type": "code",
   "execution_count": null,
   "metadata": {},
   "outputs": [],
   "source": []
  }
 ],
 "metadata": {
  "kernelspec": {
   "name": "Python 3.8.5 64-bit ('haiopy': conda)",
   "display_name": "Python 3.8.5 64-bit ('haiopy': conda)",
   "metadata": {
    "interpreter": {
     "hash": "127c24c75f4f8b62fc81a01043e28cbce4eb8ec432eec1cfbc6e85325b030153"
    }
   }
  },
  "language_info": {
   "codemirror_mode": {
    "name": "ipython",
    "version": 3
   },
   "file_extension": ".py",
   "mimetype": "text/x-python",
   "name": "python",
   "nbconvert_exporter": "python",
   "pygments_lexer": "ipython3",
   "version": "3.8.5-final"
  }
 },
 "nbformat": 4,
 "nbformat_minor": 4
}